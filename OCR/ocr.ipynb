{
 "cells": [
  {
   "cell_type": "code",
   "execution_count": 5,
   "metadata": {},
   "outputs": [],
   "source": [
    "!pip install -q keras-ocr python-Levenshtein wordninja tensorflow roboflow --quiet seaborn matplotlib scikit-learn"
   ]
  },
  {
   "cell_type": "code",
   "execution_count": 7,
   "metadata": {},
   "outputs": [],
   "source": [
    "import keras_ocr\n",
    "import matplotlib.pyplot as plt\n",
    "import Levenshtein\n",
    "import wordninja\n",
    "from roboflow import Roboflow\n",
    "import os\n",
    "import seaborn as sns\n",
    "import matplotlib.pyplot as plt\n",
    "from sklearn.metrics import confusion_matrix\n",
    "import numpy as np\n",
    "from collections import defaultdict\n",
    "import pandas as pd"
   ]
  },
  {
   "cell_type": "code",
   "execution_count": 8,
   "metadata": {},
   "outputs": [
    {
     "name": "stdout",
     "output_type": "stream",
     "text": [
      "Looking for /Users/yaseminozkut/.keras-ocr/craft_mlt_25k.h5\n",
      "Looking for /Users/yaseminozkut/.keras-ocr/crnn_kurapan.h5\n"
     ]
    }
   ],
   "source": [
    "pipeline = keras_ocr.pipeline.Pipeline()"
   ]
  },
  {
   "cell_type": "code",
   "execution_count": null,
   "metadata": {},
   "outputs": [],
   "source": [
    "rf = Roboflow(api_key=\"Your API Key\")\n",
    "project = rf.workspace(\"product-detection-4zkyw\").project(\"market-products-detection\")\n",
    "dataset = project.version(4).download(\"yolov8\")"
   ]
  },
  {
   "cell_type": "code",
   "execution_count": 9,
   "metadata": {},
   "outputs": [
    {
     "name": "stdout",
     "output_type": "stream",
     "text": [
      "/Users/yaseminozkut/Dev/Internship/Smart-Kitchen/OCR\n"
     ]
    }
   ],
   "source": [
    "HOME = os.getcwd()\n",
    "print(HOME)"
   ]
  },
  {
   "cell_type": "code",
   "execution_count": 12,
   "metadata": {},
   "outputs": [],
   "source": [
    "product_dict = {\"mehl\", \"wasser\", \"water\", \"volvic\", \"evian\", \"kaffee\", \"caffe\", \"coffee\", \"cappucino\", \"espresso\", \"lavazza\", \"nescafe\", \"latte\", \"macchiato\", \"frappe\", \"milch\", \"milk\", \"tea\", \"tee\", \"lord nelson\"}"
   ]
  },
  {
   "cell_type": "code",
   "execution_count": 14,
   "metadata": {},
   "outputs": [],
   "source": [
    "#Closest word for the word\n",
    "def find_closest_word(word, dictionary):\n",
    "  closest_word = None\n",
    "  min_distance = float('inf')  # Set an initial large value for minimum distance\n",
    "\n",
    "  for dict_word in dictionary:\n",
    "    distance = Levenshtein.distance(word, dict_word)\n",
    "    if len(word) <= 3:\n",
    "      return \"other\"\n",
    "    if distance < min_distance:\n",
    "      min_distance = distance\n",
    "      closest_word = dict_word\n",
    "\n",
    "  # If the minimum distance is greater than a threshold (e.g., 2), consider it \"other\"\n",
    "  threshold = 2\n",
    "  if min_distance > threshold:\n",
    "    return \"other\"\n",
    "  else:\n",
    "    return closest_word"
   ]
  },
  {
   "cell_type": "code",
   "execution_count": 15,
   "metadata": {},
   "outputs": [],
   "source": [
    "def find_class_name(classID):\n",
    "  name = \"\"\n",
    "  if(classID == \"0\"):\n",
    "    name = \"Kaffee/Coffee\"\n",
    "  elif(classID == \"1\"):\n",
    "    name = \"Mehl/Flour\"\n",
    "  elif(classID == \"2\"):\n",
    "    name = \"Milch/Milk\"\n",
    "  elif(classID == \"4\"):\n",
    "    name = \"Tee/Tea\"\n",
    "  elif(classID == \"5\"):\n",
    "    name = \"Wasser-Water\"\n",
    "  return name"
   ]
  },
  {
   "cell_type": "code",
   "execution_count": 16,
   "metadata": {},
   "outputs": [],
   "source": [
    "def find_real_classes(img):\n",
    "  classes = []\n",
    "  img = img.rsplit('.jpg', 1)[0] + '.txt'\n",
    "  img = img.replace('images' ,'labels')\n",
    "  #print(img)\n",
    "  with open(img, \"r\") as file:\n",
    "      for line in file:\n",
    "          words = line.strip().split()  # Split the line into words\n",
    "          first_word = words[0]\n",
    "          if(find_class_name(first_word) not in classes):\n",
    "              classes.append(find_class_name(first_word))\n",
    "  return classes"
   ]
  },
  {
   "cell_type": "code",
   "execution_count": 17,
   "metadata": {},
   "outputs": [],
   "source": [
    "def convert_class_name(word):\n",
    "    if (word == 'mehl'):\n",
    "        word2 = 'Mehl/Flour'\n",
    "    elif (word == 'wasser'):\n",
    "        word2 = 'Wasser-Water'\n",
    "    elif (word == 'water'):\n",
    "        word2 = 'Wasser-Water'\n",
    "    elif (word == 'evian'):\n",
    "        word2 = 'Wasser-Water'\n",
    "    elif (word == 'volvic'):\n",
    "        word2 = 'Wasser-Water'\n",
    "    elif (word == 'kaffee'):\n",
    "        word2 = 'Kaffee/Coffee'\n",
    "    elif (word == 'caffe'):\n",
    "        word2 = 'Kaffee/Coffee'\n",
    "    elif word == 'coffee':\n",
    "        word2 = 'Kaffee/Coffee'\n",
    "    elif word == 'cappucino':\n",
    "        word2 = 'Kaffee/Coffee'\n",
    "    elif word == 'espresso':\n",
    "        word2 = 'Kaffee/Coffee'\n",
    "    elif word == 'lavazza':\n",
    "        word2 = 'Kaffee/Coffee'\n",
    "    elif word == 'nescafe':\n",
    "        word2 = 'Kaffee/Coffee'\n",
    "    elif word == 'latte':\n",
    "        word2 = 'Kaffee/Coffee'\n",
    "    elif word == 'macchiato':\n",
    "        word2 = 'Kaffee/Coffee'\n",
    "    elif word == 'frappe':\n",
    "        word2 = 'Kaffee/Coffee'\n",
    "    elif word == 'milch':\n",
    "        word2 = 'Milch/Milk'\n",
    "    elif word == 'milk':\n",
    "        word2 = 'Milch/Milk'\n",
    "    elif word == 'tea':\n",
    "        word2 = 'Tee/Tea'   \n",
    "    elif word == 'tee':\n",
    "        word2 = 'Tee/Tea'\n",
    "    elif word == 'lord nelson':\n",
    "        word2 = 'Tee/Tea'\n",
    "    return word2"
   ]
  },
  {
   "cell_type": "code",
   "execution_count": 18,
   "metadata": {},
   "outputs": [
    {
     "name": "stdout",
     "output_type": "stream",
     "text": [
      "1/1 [==============================] - 40s 40s/step\n",
      "3/3 [==============================] - 4s 1s/step\n",
      "[['rewe', 'cappuccin'], ['lavazza', 'mase', 'efl', 'caffe', 'espresso'], ['sohan', 'oie', 'l', 'cchlk', 'cic'], [], ['fealr', 'reas', 'did', 'bd', 'arla', 'arl', 'len', 'l', 'ath', 'slsce', 'io', 'bio', 'eile', 'welde', 'lleer', 'frische', 'mitlchee', 'frische', 'ioll', 'woll', 'mileh', 'milch', 'fett', 'den', 'la', 'ti', 'dineeteel', 'talie', 'rtle', 'suut', 'le', 'f', 't', 'tl'], [], ['ce', 'te', 'sss', 'sser', 'gold', 'nas', 'puder', 'lehe', 'ter', 'las', 'jcreteig'], ['tnlos', 'tencfef', 'ttag', 'rllin', 'nortae', 'me'], ['hohb', 'a', 'muha', 'huler', 'bio', 'blo', 'pene', 'roggen', 'vollkommehl', 'ca', 'ocael', 'no', 'ooog', 'on', 'rot', 'uinule'], ['s', '', '', 'e', 's', '', 's']]\n",
      "-----------end of image--------------\n",
      "-----------end of image--------------\n",
      "-----------end of image--------------\n",
      "-----------end of image--------------\n",
      "-----------end of image--------------\n",
      "-----------end of image--------------\n",
      "-----------end of image--------------\n",
      "-----------end of image--------------\n",
      "-----------end of image--------------\n",
      "-----------end of image--------------\n",
      "1/1 [==============================] - 36s 36s/step\n",
      "2/2 [==============================] - 2s 922ms/step\n",
      "[['udly', 'gusto', 'latle', 'amn', 'macchto', 'macchiate', 'mlle', 'cc', 'go', 'mestafe', 'mttte', 'guostce', 'gustce', 'latte', 'latte', 'macchiato', 'macchiato', 'telle'], ['vaon', '1si', 'nolet', 'mich', 'abng', 'milch', 'd'], ['litrex', 'vitrex', 'ot'], ['no', 'so', 'o', 'ro', 'uno', 'ano', 'ree', 'sge'], ['aos', 'nvian', 'vial'], ['valvic', 'alvic', 'ln'], ['espsesso', 'cwn', 'brea', 'eoa', 'nte'], [], ['lord', 'lord', 'nelson', 'nelson', 'ingwer', 'ingwer', 'plt', 'pur', 'lrunt'], ['mineral', 'wasel', 'sner']]\n",
      "-----------end of image--------------\n",
      "-----------end of image--------------\n",
      "-----------end of image--------------\n",
      "-----------end of image--------------\n",
      "-----------end of image--------------\n",
      "-----------end of image--------------\n",
      "-----------end of image--------------\n",
      "-----------end of image--------------\n",
      "-----------end of image--------------\n",
      "-----------end of image--------------\n",
      "1/1 [==============================] - 34s 34s/step\n",
      "3/3 [==============================] - 3s 1s/step\n",
      "[['feal', 'bio', 's', 'vollkorn', 'weizenmenl', 'vollkor', 'weizenm', 'arodae'], ['nescafe', 'nescafe', 'fappr', 'frappe', 'la', 'l', 'al'], ['ses', '349', 'reeti', 'leete', 'gold', 'dold', 'neete', 'higea', 'crecail', 'sln', 't', 'eli', 'mlean', 'mad', 'cod', 'cln', '349', '4fs'], ['chialinte', 'icdum', 'medlum', 'bin'], ['e', 'd', 'necafe', 'guostce', 'tto', 'l', 'ristretto', 'd', 'lece', 'culle', 'gleto', 'le', 'eapseln', 'rte', 'te'], ['e', 'i', 's'], ['strtaes', 'lettay', 'dunpier', 'lemon', 'terln', 'laglre', 'lntos', 'grkaa', 'lies', 'uaaiel', 'canu', 'c', 'ste', 'iles', 'tr', 're'], ['oroeel', 'ic', 'c'], ['lotd', 'telun', 'iamille', 'ceee', 'teekanne', 'rcamo', 'lncies', 'liraee'], ['cold', 'cold', 'puder', 'puder', 'vollkorn', 'mehl', 'vollkor', 'mehl', 'mren', 'weizen']]\n",
      "-----------end of image--------------\n",
      "-----------end of image--------------\n",
      "-----------end of image--------------\n",
      "-----------end of image--------------\n",
      "-----------end of image--------------\n",
      "-----------end of image--------------\n",
      "-----------end of image--------------\n",
      "-----------end of image--------------\n",
      "-----------end of image--------------\n",
      "-----------end of image--------------\n",
      "1/1 [==============================] - 37s 37s/step\n",
      "3/3 [==============================] - 3s 828ms/step\n",
      "[['tiun', 'mediun', 'um', 'medivs'], ['mbona', 'halbare', 'nole', 'wich', 'ze'], ['eare', 'al', 'cealtr', 'lava', 'tac', 'cias', 'cn', 'tes', 'tl', 'uareeen', 'oe', '18', 'ttafe', 'caffecrene', 'affer', 'ca', 'caff', 's', 'lavazza', 'l', 'i', 'ase', 'coaln'], ['uizwaldmilch', 'cuntmain', 'belbung', 'fettarines', 'hallan', 'ha', 'weid', 'weide', 'fumm', 'milc', 'milch', 'lsoo', '154', 'saldmilchad'], ['slnom', 'delmoit', 'sold', 'dtnat', 'coll'], ['uolvic', 'touch'], ['trer', 'lit'], ['bellaom', 'gold', 'arbn', 'lnss'], ['ee', 'teeael', 'fate', 'darieeling', 'entd', 'dree', 'eles', 'meetl', 'eeen', 'lne', 'depth', 'unte', 'carh'], ['hiienin', 'ts', 'grunkern', 'mehl', 'tnaat', 'te']]\n",
      "-----------end of image--------------\n",
      "-----------end of image--------------\n",
      "-----------end of image--------------\n",
      "-----------end of image--------------\n",
      "-----------end of image--------------\n",
      "-----------end of image--------------\n",
      "-----------end of image--------------\n",
      "-----------end of image--------------\n",
      "-----------end of image--------------\n",
      "-----------end of image--------------\n",
      "1/1 [==============================] - 36s 36s/step\n",
      "4/4 [==============================] - 4s 929ms/step\n",
      "[['n', 'los', 'e', 'dal', 'to'], ['expressi', 'expressi', 'expres', 'sreo', 'caffe', 'cren', 'ee', 'le', 'etneet', 'saeere', 'aorees', 'fiprese', 'clailatle', 'fcpressi', 'earess', 'e'], ['fiafes', 'lae', 'mich', 'halllaurt', 'milfina', 'hvon', 'milch', 'hvollmilch', 'ulfichahtit', 'ft', 'el'], ['tet', 'lt', 'trolt', 'alnatura', 'innere', 'kraft', 'bio', 'tlul'], ['d', 'lc'], ['fe', 'ceifioes', 'sasaiens', 'se', 'ste', 'ceislos', 'sfondhien'], ['slute', 'selia'], ['cold', 'gold', 'st', 'ald', 'puder', 'tt', 'puder', 'ider', 'weizem', 'weizea', 'mehl', 'lizen', 'mehl', 'fehl', 'los', 'in', 'le', 'los', 'lpe'], ['s', 'sacobs', 'tong', 'cocn', 'tods', 'sne', 'crumo', 'i', 'pods', 'come', '16', 'pads', '16', 'teta', '16', 'mild', '16', 'gacohs', 'sloes', 'led', 'scoes', 'crarmo', 'treitd', 'ca', 'pads', 'bods', 'cronc', 'pods', '16', '16', '16', '16', 'mild', '21'], ['cus', 'sunstis', 't', '35', 'kamille', 'snn', 'taan', 'kamille']]\n",
      "-----------end of image--------------\n",
      "-----------end of image--------------\n",
      "-----------end of image--------------\n",
      "-----------end of image--------------\n",
      "-----------end of image--------------\n",
      "-----------end of image--------------\n",
      "-----------end of image--------------\n",
      "-----------end of image--------------\n",
      "-----------end of image--------------\n",
      "-----------end of image--------------\n",
      "1/1 [==============================] - 34s 34s/step\n",
      "3/3 [==============================] - 3s 760ms/step\n",
      "[['lne', 'teehllte', 'mimze', 'ri', 'llten', 'ttartier', 'lai', 'lnees', 'toentils', 'loe', 's'], ['ala', 'ale', 'mild', 'muld', 'mild', 'rattkites', 'mit', 'knrano', 'lblttio', 'loued', 'gala', 'gala', 'buld', 'tlu', 'clld'], ['bio', 'blenmen', 'fio', 'deka', 'hled', 'weizenmehl', 'apt', 'sad', 'bio'], ['vian', 'evial', 'vi'], ['ta', 'ppuse', 'uppuccind', 'uet', 'duen', 'cind', 'co', 'huccnd', 'uuccind', 'sn', 'in', 'capplecs', 'tae', 'tes'], [], ['soltt', 'sorsrt'], ['ehret', 'mi', 'mlok', 'le'], ['ualvic', 'valvic', 'valvic', 'emnc', 'dl'], ['voll', 'voll', 'voll', 'nilgh', 'hilch', 'milch', 'frische', 'milch', 'fetitarne', 'milch', 'e']]\n",
      "-----------end of image--------------\n",
      "-----------end of image--------------\n",
      "-----------end of image--------------\n",
      "-----------end of image--------------\n",
      "-----------end of image--------------\n",
      "-----------end of image--------------\n",
      "-----------end of image--------------\n",
      "-----------end of image--------------\n",
      "-----------end of image--------------\n",
      "-----------end of image--------------\n",
      "1/1 [==============================] - 34s 34s/step\n",
      "3/3 [==============================] - 3s 851ms/step\n",
      "[['kirsche', 'mlbner', 'holunder', 'kirsche', 'mebmer', 'hocatue', 'imes', 'holunder', 'mebmer', 'kirsche'], ['cold', 'cold', 'e', 'dude', 'aae', 'ga', 'pudee', 's', 'pu', 'ustant', 'istant', 'mehl', 'din', 'mehl', 'me'], ['real', 'blo', 'ele', 'rato', 'wifenmeht'], ['lord', 'nclson', 'ceylonlassam', 'ld', 'dte', 'lier', 't'], ['tip', 'emlahll', 'hllleil', 'tip', 'felarme', 'halailch'], ['ashewitinss', 'farmen', 'paranuss', 'kerne'], ['gala', 'gal', 'grena', 'caffe', 'euntees'], ['pfefferminze', 'meemer', 'tsel', 'ral', 'ct', 'nulle'], ['tane', 'len', 'ti', 'coine', 'da', 'niee', 'ton', 'andechser', 'natue', 'ndechser', 'netue', 'haltbare', 'bilo', 'zlegenmilch', 'haltbare', 'liegenmilch', 'd', 'son', 'b'], ['lwa', 'alwa', 'uri', 'o', 'ln']]\n",
      "-----------end of image--------------\n",
      "-----------end of image--------------\n",
      "-----------end of image--------------\n",
      "-----------end of image--------------\n",
      "-----------end of image--------------\n",
      "-----------end of image--------------\n",
      "-----------end of image--------------\n",
      "-----------end of image--------------\n",
      "-----------end of image--------------\n",
      "-----------end of image--------------\n",
      "1/1 [==============================] - 35s 35s/step\n",
      "2/2 [==============================] - 2s 986ms/step\n",
      "[['e', 'bs', 'saen', 'cal', 'auslese', 'au', 'h', 'gacobs', 'mild', 'e', 'sanfy', 's', 'auslese', 's', 'gacobs', 'on'], ['tizio', 'cafte', 'herium', 'cite', 'crenna', 'c', 's', 'cxes', 'crinn', 'wite', 'aratker', 'tas'], ['gral', 'lavaln', 'lavail', 'clml', 'ouuin', 'rossa', 'rossa'], ['ooann', 'dnkel', 'chl', 'mehl', 'n', 'feint', 'das', 'cle', 'is', 'oenen'], ['mumer', 'mmmr', 'gru', 'anses'], ['leolun'], [], ['helmatsmthle', 'noile', 'too'], ['gerous', 'cuteine', 'tolstene'], ['le']]\n",
      "-----------end of image--------------\n",
      "-----------end of image--------------\n",
      "-----------end of image--------------\n",
      "-----------end of image--------------\n",
      "-----------end of image--------------\n",
      "-----------end of image--------------\n",
      "-----------end of image--------------\n",
      "-----------end of image--------------\n",
      "-----------end of image--------------\n",
      "-----------end of image--------------\n",
      "1/1 [==============================] - 41s 41s/step\n",
      "2/2 [==============================] - 2s 877ms/step\n",
      "[['tale', 'eastins', 'odlicet', 'candliece', 'rahus', 'rlol', 'srstioeis', 'takhs', 'sokhs', 'condly', '15', 'lier'], ['nestle', 'caro', 'lssi', 'euit', 'landeiloe', 'tee', 'crttelst', 'deule'], ['e', 'tlne', '1ne', 'maleh', 'malhar', 'aue', 'nattrts', 'millinn', 'tetaree', 'fetlene', 'hmilch', 'th', 'hemll', 'eaann'], ['rhe'], ['teekanne', 'tenchel', 'aniss', 'kummel'], ['ans', 'ssovly', '', 'e', 's'], ['s', 'g', 'svs', 'ton', 's', 'salses', 'aus'], ['s'], ['cols', 'puder', 'roge'], ['dolvic', 'tielhoch', 'seilee']]\n",
      "-----------end of image--------------\n",
      "-----------end of image--------------\n",
      "-----------end of image--------------\n",
      "-----------end of image--------------\n",
      "-----------end of image--------------\n",
      "-----------end of image--------------\n",
      "-----------end of image--------------\n",
      "-----------end of image--------------\n",
      "-----------end of image--------------\n",
      "-----------end of image--------------\n",
      "1/1 [==============================] - 44s 44s/step\n",
      "4/4 [==============================] - 3s 730ms/step\n",
      "[['edeka', 'darieeling', 'ount', 'darieelil', 'degfrate', 'edekd'], ['tn', 'nn', 'antel', 'an', 'a', 'apel'], ['patriep', 'p', 'sae', 'te', 'y', 'tirier'], ['tas', 'cuse', 'd', 'ceep', 'lep', 'fresh', 'esh', 'alp', 'alpro', 'so', 'alpro', 'soya', 'd', 'ighn', 'lighi', 'soya', 'a', 'caignu', 'ma'], ['blcahoreet'], ['prcise', 'falire', 'mllchbauern', 'hnae', 'miten', 'let', 'auenea', 'alnltuea', 'aupen', 'aupen', '1ilcf', 'miech', 'tntthe', 'halthar', 'bst', '354', 'bot'], ['c', 'bro', 'lottomns', 'mlutos', 'bio', 'aal', 'tlet', 'e'], ['lac', 'lac', 'ltoliel', 'luean', 'fettarme', 'fettarme', 'hemilch', 'milch', 'he', 'ls', 'le'], ['s', 'kraftig', 'siker', 'crema', 'caffe', 'kaffeepads', 'ds', 'ce', 'ele', 'sta', 's', 'lala', 'lg', 's', '16', 'sa', 'd', 'caffe', 'crema', 'kraftig', 'ffeetads'], ['grak', 'mutaten']]\n",
      "-----------end of image--------------\n",
      "-----------end of image--------------\n",
      "-----------end of image--------------\n",
      "-----------end of image--------------\n",
      "-----------end of image--------------\n",
      "-----------end of image--------------\n",
      "-----------end of image--------------\n",
      "-----------end of image--------------\n",
      "-----------end of image--------------\n",
      "-----------end of image--------------\n"
     ]
    }
   ],
   "source": [
    "image_folder = '/Users/yaseminozkut/Dev/Internship/Smart-Kitchen/OCR/Market-Products-Detection-4/test/images'\n",
    "image_paths = [os.path.join(image_folder, filename) for filename in os.listdir(image_folder)]\n",
    "predicted_classes = []\n",
    "\n",
    "# Determine the chunk size (10% of total images)\n",
    "chunk_size = len(image_paths) // 10\n",
    "num_chunks = 10\n",
    "selected_image_paths = []\n",
    "for i in range(num_chunks):\n",
    "    start_idx = i * chunk_size\n",
    "    end_idx = start_idx + chunk_size\n",
    "    chunk_image_paths = image_paths[start_idx:end_idx]\n",
    "    selected_image_paths.append(chunk_image_paths)\n",
    "\n",
    "    images = [keras_ocr.tools.read(img) for img in chunk_image_paths]\n",
    "    prediction_groups = pipeline.recognize(images)\n",
    "    word_list = []\n",
    "    for prediction in prediction_groups:\n",
    "        predict_list = []\n",
    "        for p in prediction:\n",
    "            predict_list.append(p[0])\n",
    "        word_list.append(predict_list)\n",
    "\n",
    "    new_list = []\n",
    "    print(word_list)\n",
    "    \n",
    "    for prediction_groups in word_list:\n",
    "        predicted_class = []\n",
    "        for word in prediction_groups:\n",
    "            if len(word) <= 2:\n",
    "                #predicted_class.append(\"other\")\n",
    "                #print(f\"{word} -> other\")\n",
    "                continue\n",
    "            elif word == \"rewe\":\n",
    "                #predicted_class.append(\"other\")\n",
    "                #print(f\"{word} -> other\")\n",
    "                continue\n",
    "            elif word in product_dict:\n",
    "                predicted_class.append(word)\n",
    "                #print(word, \"->\", word)\n",
    "                #new_list.append(word)\n",
    "            else:\n",
    "                matching_product = next((product for product in product_dict if product in word), None)\n",
    "                if matching_product:\n",
    "                    predicted_class.append(matching_product)\n",
    "                    #print(word, \"->\", matching_product)\n",
    "                    #new_list.append(word)\n",
    "                else:\n",
    "                    matching_product = next((item for item in product_dict if item in word), None)\n",
    "                    if matching_product:\n",
    "                        #print(word, \"->\", matching_product)\n",
    "                        predicted_class.append(matching_product)\n",
    "                        #new_list.append(word)\n",
    "                        break\n",
    "\n",
    "                    else:\n",
    "                        closest = find_closest_word(word, product_dict)\n",
    "                        if(closest != \"other\"):\n",
    "                            predicted_class.append(closest)\n",
    "                            #print(word, \"->\", closest)\n",
    "\n",
    "                        else:\n",
    "                            separated_words = wordninja.split(word)\n",
    "                            for sep in separated_words:\n",
    "                                sep_closest = find_closest_word(sep, product_dict)\n",
    "                                if(sep_closest != \"other\"):\n",
    "                                    #print(word, \"->\", sep_closest)\n",
    "                                    predicted_class.append(sep_closest)\n",
    "        predicted_classes.append(predicted_class)\n",
    "        print(\"-----------end of image--------------\")"
   ]
  },
  {
   "cell_type": "code",
   "execution_count": 19,
   "metadata": {},
   "outputs": [],
   "source": [
    "real_classes = []\n",
    "for chunk in selected_image_paths:\n",
    "    for img in chunk:\n",
    "        real_classes.append(find_real_classes(img))"
   ]
  },
  {
   "cell_type": "code",
   "execution_count": 20,
   "metadata": {},
   "outputs": [
    {
     "name": "stdout",
     "output_type": "stream",
     "text": [
      "[['Kaffee/Coffee'], ['Kaffee/Coffee', 'Kaffee/Coffee', 'Kaffee/Coffee'], ['Mehl/Flour'], [], ['Mehl/Flour', 'Tee/Tea', 'Milch/Milk', 'Tee/Tea', 'Milch/Milk', 'Tee/Tea', 'Milch/Milk', 'Milch/Milk', 'Tee/Tea', 'Tee/Tea'], [], ['Wasser-Water', 'Tee/Tea'], ['Tee/Tea'], ['Mehl/Flour', 'Tee/Tea', 'Mehl/Flour'], [], ['Kaffee/Coffee', 'Kaffee/Coffee', 'Kaffee/Coffee', 'Milch/Milk', 'Kaffee/Coffee', 'Kaffee/Coffee', 'Kaffee/Coffee', 'Kaffee/Coffee', 'Kaffee/Coffee', 'Kaffee/Coffee', 'Tee/Tea'], ['Milch/Milk', 'Milch/Milk'], ['Kaffee/Coffee'], [], ['Wasser-Water', 'Wasser-Water'], ['Wasser-Water', 'Wasser-Water'], ['Kaffee/Coffee', 'Tee/Tea'], [], [], ['Wasser-Water'], ['Mehl/Flour'], ['Kaffee/Coffee', 'Kaffee/Coffee', 'Kaffee/Coffee', 'Kaffee/Coffee'], ['Kaffee/Coffee', 'Tee/Tea', 'Tee/Tea'], [], ['Kaffee/Coffee', 'Tee/Tea'], [], [], [], ['Milch/Milk', 'Tee/Tea', 'Tee/Tea'], ['Mehl/Flour', 'Mehl/Flour'], ['Mehl/Flour', 'Mehl/Flour'], ['Milch/Milk'], ['Tee/Tea', 'Kaffee/Coffee', 'Kaffee/Coffee', 'Kaffee/Coffee', 'Kaffee/Coffee'], ['Milch/Milk', 'Milch/Milk', 'Milch/Milk', 'Milch/Milk'], [], ['Wasser-Water'], ['Tee/Tea'], [], ['Tee/Tea', 'Wasser-Water', 'Tee/Tea', 'Mehl/Flour', 'Tee/Tea'], ['Mehl/Flour'], [], ['Kaffee/Coffee', 'Kaffee/Coffee', 'Kaffee/Coffee'], ['Milch/Milk', 'Milch/Milk', 'Milch/Milk'], [], [], [], ['Kaffee/Coffee', 'Wasser-Water'], ['Mehl/Flour', 'Mehl/Flour', 'Mehl/Flour'], ['Tee/Tea', 'Milch/Milk', 'Milch/Milk'], ['Tee/Tea'], ['Tee/Tea', 'Tee/Tea'], ['Milch/Milk', 'Milch/Milk', 'Milch/Milk', 'Kaffee/Coffee'], ['Tee/Tea', 'Mehl/Flour'], ['Wasser-Water', 'Wasser-Water'], [], [], [], ['Milch/Milk'], ['Wasser-Water', 'Wasser-Water', 'Wasser-Water'], ['Milch/Milk', 'Milch/Milk', 'Milch/Milk', 'Milch/Milk', 'Milch/Milk'], [], ['Mehl/Flour', 'Mehl/Flour'], ['Mehl/Flour'], [], ['Tee/Tea'], [], ['Kaffee/Coffee', 'Tee/Tea'], ['Tee/Tea'], ['Tee/Tea', 'Tee/Tea', 'Kaffee/Coffee', 'Milch/Milk', 'Milch/Milk', 'Milch/Milk'], [], ['Milch/Milk'], ['Kaffee/Coffee', 'Wasser-Water'], [], ['Mehl/Flour'], [], [], [], [], [], [], ['Tee/Tea'], ['Kaffee/Coffee', 'Tee/Tea'], ['Tee/Tea', 'Milch/Milk', 'Kaffee/Coffee', 'Milch/Milk', 'Tee/Tea', 'Milch/Milk'], [], ['Tee/Tea'], [], [], [], [], ['Wasser-Water', 'Tee/Tea'], ['Wasser-Water'], [], [], ['Tee/Tea'], [], ['Tee/Tea', 'Milch/Milk', 'Milch/Milk', 'Tee/Tea'], ['Tee/Tea'], ['Milch/Milk', 'Milch/Milk'], ['Kaffee/Coffee', 'Kaffee/Coffee', 'Kaffee/Coffee', 'Tee/Tea'], []]\n"
     ]
    }
   ],
   "source": [
    "predicted_classes2 = []\n",
    "for predict in predicted_classes:\n",
    "    predict2 = []\n",
    "    for word in predict:\n",
    "        converted = convert_class_name(word)\n",
    "        predict2.append(converted)\n",
    "    predicted_classes2.append(predict2)\n",
    "\n",
    "print(predicted_classes2)"
   ]
  },
  {
   "cell_type": "code",
   "execution_count": 21,
   "metadata": {},
   "outputs": [
    {
     "name": "stdout",
     "output_type": "stream",
     "text": [
      "[['Kaffee/Coffee'], ['Kaffee/Coffee'], ['Mehl/Flour'], [], ['Milch/Milk', 'Tee/Tea', 'Mehl/Flour'], [], ['Wasser-Water', 'Tee/Tea'], ['Tee/Tea'], ['Tee/Tea', 'Mehl/Flour'], [], ['Tee/Tea', 'Milch/Milk', 'Kaffee/Coffee'], ['Milch/Milk'], ['Kaffee/Coffee'], [], ['Wasser-Water'], ['Wasser-Water'], ['Tee/Tea', 'Kaffee/Coffee'], [], [], ['Wasser-Water'], ['Mehl/Flour'], ['Kaffee/Coffee'], ['Tee/Tea', 'Kaffee/Coffee'], [], ['Tee/Tea', 'Kaffee/Coffee'], [], [], [], ['Tee/Tea', 'Milch/Milk'], ['Mehl/Flour'], ['Mehl/Flour'], ['Milch/Milk'], ['Tee/Tea', 'Kaffee/Coffee'], ['Milch/Milk'], [], ['Wasser-Water'], ['Tee/Tea'], [], ['Wasser-Water', 'Tee/Tea', 'Mehl/Flour'], ['Mehl/Flour'], [], ['Kaffee/Coffee'], ['Milch/Milk'], [], [], [], ['Wasser-Water', 'Kaffee/Coffee'], ['Mehl/Flour'], ['Tee/Tea', 'Milch/Milk'], ['Tee/Tea'], ['Tee/Tea'], ['Milch/Milk', 'Kaffee/Coffee'], ['Tee/Tea', 'Mehl/Flour'], ['Wasser-Water'], [], [], [], ['Milch/Milk'], ['Wasser-Water'], ['Milch/Milk'], [], ['Mehl/Flour'], ['Mehl/Flour'], [], ['Tee/Tea'], [], ['Tee/Tea', 'Kaffee/Coffee'], ['Tee/Tea'], ['Milch/Milk', 'Tee/Tea', 'Kaffee/Coffee'], [], ['Milch/Milk'], ['Wasser-Water', 'Kaffee/Coffee'], [], ['Mehl/Flour'], [], [], [], [], [], [], ['Tee/Tea'], ['Tee/Tea', 'Kaffee/Coffee'], ['Kaffee/Coffee', 'Tee/Tea', 'Milch/Milk'], [], ['Tee/Tea'], [], [], [], [], ['Wasser-Water', 'Tee/Tea'], ['Wasser-Water'], [], [], ['Tee/Tea'], [], ['Tee/Tea', 'Milch/Milk'], ['Tee/Tea'], ['Milch/Milk'], ['Tee/Tea', 'Kaffee/Coffee'], []]\n"
     ]
    }
   ],
   "source": [
    "unique_predict = []\n",
    "for predict in predicted_classes2:\n",
    "    unique_classes = set(predict)\n",
    "    unique_classes_list = list(unique_classes)\n",
    "    unique_predict.append(unique_classes_list)\n",
    "\n",
    "print(unique_predict)"
   ]
  },
  {
   "cell_type": "code",
   "execution_count": 22,
   "metadata": {},
   "outputs": [],
   "source": [
    "for uniq in unique_predict:\n",
    "    if(len(uniq) == 0):\n",
    "        uniq.append(\"Nothing Predicted\")"
   ]
  },
  {
   "cell_type": "code",
   "execution_count": 26,
   "metadata": {},
   "outputs": [
    {
     "data": {
      "image/png": "[encoded data removed]",
      "text/plain": [
       "<Figure size 1000x800 with 2 Axes>"
      ]
     },
     "metadata": {},
     "output_type": "display_data"
    }
   ],
   "source": [
    "confusion_dict = defaultdict(int)\n",
    "real_classes_flat = [item for sublist in real_classes for item in sublist]\n",
    "predicted_classes_flat = [item for sublist in unique_predict for item in sublist]\n",
    "for i in range(len(real_classes)):\n",
    "    real_class = real_classes[i]\n",
    "    predicted_class = unique_predict[i]\n",
    "    \n",
    "    for pred_class in predicted_class:\n",
    "        if(len(real_class)!= 0):\n",
    "            confusion_dict[(real_class[0], pred_class)] += 1\n",
    "\n",
    "# Create a confusion matrix using the dictionary values\n",
    "confusion_matrix_data = []\n",
    "for actual_class in unique_classes:\n",
    "    row = [confusion_dict[(actual_class, predicted_class)] for predicted_class in unique_classes]\n",
    "    confusion_matrix_data.append(row)\n",
    "\n",
    "unique_classes = list(set(real_classes_flat + predicted_classes_flat))\n",
    "\n",
    "# Convert confusion matrix data to a DataFrame for Seaborn visualization\n",
    "confusion_df = pd.DataFrame(confusion_matrix_data, index=unique_classes, columns=unique_classes)\n",
    "\n",
    "# Create a heatmap using Seaborn\n",
    "plt.figure(figsize=(10, 8))\n",
    "sns.heatmap(confusion_df, annot=True, fmt=\"d\", cmap=\"Blues\")\n",
    "plt.xlabel('Predicted')\n",
    "plt.ylabel('Actual')\n",
    "plt.title('Confusion Matrix')\n",
    "plt.show()\n"
   ]
  }
 ],
 "metadata": {
  "kernelspec": {
   "display_name": "a1",
   "language": "python",
   "name": "a1"
  },
  "language_info": {
   "codemirror_mode": {
    "name": "ipython",
    "version": 3
   },
   "file_extension": ".py",
   "mimetype": "text/x-python",
   "name": "python",
   "nbconvert_exporter": "python",
   "pygments_lexer": "ipython3",
   "version": "3.11.2"
  },
  "orig_nbformat": 4
 },
 "nbformat": 4,
 "nbformat_minor": 2
}
